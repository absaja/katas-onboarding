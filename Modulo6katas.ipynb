{
 "cells": [
  {
   "cell_type": "markdown",
   "metadata": {},
   "source": [
    "## Ejercicio 6 Katas"
   ]
  },
  {
   "cell_type": "markdown",
   "metadata": {},
   "source": [
    "# Ejercicio 1"
   ]
  },
  {
   "cell_type": "code",
   "execution_count": 4,
   "metadata": {},
   "outputs": [
    {
     "name": "stdout",
     "output_type": "stream",
     "text": [
      "Hay 8 planetas\n",
      "Pluton es el ultimo planeta\n"
     ]
    }
   ],
   "source": [
    "# Creamos la lista planets y la mostramos\n",
    "\n",
    "planetas = ['Mercurio', 'Venus', 'Tierra', 'Marte', 'Jupiter', 'Saturno', 'Urano', 'Neptuno']\n",
    "print('Hay', len(planets), 'planetas')\n",
    "\n",
    "# Agregamos a plutón y mostramos el último elemento\n",
    "\n",
    "planetas.append('Pluton')\n",
    "print(planetas[-1], 'es el ultimo planeta')"
   ]
  },
  {
   "cell_type": "markdown",
   "metadata": {},
   "source": [
    "# Ejercicio 2"
   ]
  },
  {
   "cell_type": "code",
   "execution_count": 8,
   "metadata": {},
   "outputs": [
    {
     "name": "stdout",
     "output_type": "stream",
     "text": [
      "Aqui estan los planetas mas cercanos al sol que Tierra:\n",
      "['Mercurio', 'Venus']\n",
      "Aqui estan los planetas mas lejanos al sol que Tierra:\n",
      "['Marte', 'Jupiter', 'Saturno', 'Urano', 'Neptuno']\n"
     ]
    }
   ],
   "source": [
    "# Lista de planetas\n",
    "\n",
    "planetas = ['Mercurio', 'Venus', 'Tierra', 'Marte', 'Jupiter', 'Saturno', 'Urano', 'Neptuno']\n",
    "\n",
    "# Solicitamos el nombre de un planeta *Pista:  input()*\n",
    "user_planet = input('Por favor escriba el nombre del planeta (Letra mayuscula al inicio)')\n",
    "\n",
    "# Busca el planeta en la lista\n",
    "planet_index = planetas.index(user_planet)\n",
    "\n",
    "# Muestra los planetas más cercanos al sol\n",
    "print('Aqui estan los planetas mas cercanos al sol que ' + user_planet + ':')\n",
    "print(planets[0:planet_index])\n",
    "\n",
    "# Muestra los planetas más lejanos al sol\n",
    "print('Aqui estan los planetas mas lejanos al sol que ' + user_planet + ':')\n",
    "print(planetas[planet_index + 1:])"
   ]
  }
 ],
 "metadata": {
  "interpreter": {
   "hash": "520c040284cf6407aa40b0b66e4a0931b099f29383c4b8586e7260da44e3bca7"
  },
  "kernelspec": {
   "display_name": "Python 3.10.2 64-bit",
   "language": "python",
   "name": "python3"
  },
  "language_info": {
   "codemirror_mode": {
    "name": "ipython",
    "version": 3
   },
   "file_extension": ".py",
   "mimetype": "text/x-python",
   "name": "python",
   "nbconvert_exporter": "python",
   "pygments_lexer": "ipython3",
   "version": "3.10.2"
  },
  "orig_nbformat": 4
 },
 "nbformat": 4,
 "nbformat_minor": 2
}
